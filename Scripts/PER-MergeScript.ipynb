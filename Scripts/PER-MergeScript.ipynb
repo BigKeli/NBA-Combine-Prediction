{
 "cells": [
  {
   "cell_type": "code",
   "execution_count": null,
   "id": "fa6aff64",
   "metadata": {},
   "outputs": [],
   "source": [
    "\n",
    "\n",
    "#Input file : RookiesData.csv Local PATH at variable df\n",
    "#Input file : CombineData.csv Local PATH at variable cdf\n",
    "\n",
    "#PER statistic script\n",
    "\n",
    "import pandas as pd\n",
    "\n",
    "# Loading CSV \n",
    "df = pd.read_csv(r\"C:\\Users\\ThinkPad\\Documents\\AI\\RookiesData.csv\", encoding='latin1')\n",
    "df.columns=['Player', 'Team', 'Games', 'MP', 'PTS', 'FG', 'FGA', 'FG%', '3P', '3PA',\n",
    "       '3P%', 'FT', 'FTA', 'FT%', 'ORB', 'DRB', 'TRB', 'AST', 'STL', 'BLK',\n",
    "       'TOV', 'PF']\n",
    "cdf=  pd.read_csv(r\"C:\\Users\\ThinkPad\\Documents\\AI\\CombineData.csv\", encoding='latin1')\n",
    "PIR=[]\n",
    "# DF manipulation and creation of important PER statistic from existing meassurements\n",
    "for index,row in df.iterrows():\n",
    "    DRB= row['TRB']-row['ORB']\n",
    "    FTM= row['FTA']-row['FT']\n",
    "    FGM= row['FGA']-row['FG']\n",
    "    if row['MP']!=0:\n",
    "        pir= ((row['FG']*85.910)+ (row['STL']* 53.897)+\n",
    "              (row['3P']* 51.757)+ (row['FT']*46.845)+\n",
    "              (row['BLK']*39.190)+(row['ORB']*39.190)+\n",
    "              (row['AST']*34.677)+(DRB* 14.707)-(row['PF']\n",
    "            *17.174)-(FTM* 20.091)-(row['TOV']* 53.897)) /row['MP']  \n",
    "        pir=round(pir,2) \n",
    "        PIR.append(pir)\n",
    "    else: None\n",
    "\n",
    "   \n",
    "#Inserting new column into data\n",
    "df.insert(22,\"PER\",PIR,True)\n",
    "# Merging both csv for combine stats and playtime stats \n",
    "Tot=cdf.merge(df, on='Player')  \n",
    "Tot.to_excel(r\"C:\\Users\\ThinkPad\\Documents\\AI\\FinalData.xlsx\", index=False)"
   ]
  }
 ],
 "metadata": {
  "kernelspec": {
   "display_name": "Python 3 (ipykernel)",
   "language": "python",
   "name": "python3"
  },
  "language_info": {
   "codemirror_mode": {
    "name": "ipython",
    "version": 3
   },
   "file_extension": ".py",
   "mimetype": "text/x-python",
   "name": "python",
   "nbconvert_exporter": "python",
   "pygments_lexer": "ipython3",
   "version": "3.11.4"
  }
 },
 "nbformat": 4,
 "nbformat_minor": 5
}
